{
 "cells": [
  {
   "cell_type": "code",
   "execution_count": 25,
   "id": "665494d3-b4cb-47f8-87f8-28955952e082",
   "metadata": {},
   "outputs": [],
   "source": [
    "import matplotlib.pyplot as plt\n",
    "import numpy as np\n",
    "import os,sys\n",
    "import PIL\n",
    "import tensorflow as tf\n",
    "import cv2 \n",
    "from tensorflow import keras\n",
    "from tensorflow.keras import layers\n",
    "from tensorflow.keras.models import Sequential\n",
    "from PIL import Image\n",
    "from skimage.io import imread, imshow\n",
    "from skimage.color import rgb2hsv\n",
    "from matplotlib import pyplot as plt\n",
    "from PIL import Image # importing image module \n",
    "import numpy as np \n",
    "import imageio\n",
    "import matplotlib.pyplot as plt\n",
    "from PIL import Image\n"
   ]
  },
  {
   "cell_type": "code",
   "execution_count": 26,
   "id": "1fccf8d2-254c-4ef4-99a9-fe6d6bece364",
   "metadata": {},
   "outputs": [],
   "source": [
    "full_dir = \"E:/User Document/dataset\" \n",
    "p = os.listdir(full_dir+'/PhosphorusLow')\n",
    "n = os.listdir(full_dir+'/NitrogenLow')\n",
    "k = os.listdir(full_dir+'/PotassiumLow')\n",
    "ph = os.listdir(full_dir+'/PhosphorusHigh')\n",
    "nh = os.listdir(full_dir+'/NitrogenHigh')\n",
    "kh = os.listdir(full_dir+'/PotassiumHigh')\n",
    "\n",
    "\n",
    "nlist=[]\n",
    "plist=[]\n",
    "klist=[]\n",
    "nhlist=[]\n",
    "phlist=[]\n",
    "khlist=[]\n",
    "\n",
    "for ne in n  :\n",
    "    nlist.append(os.path.join(full_dir+\"/NitrogenLow\",ne))\n",
    "\n",
    "for ne in p  :\n",
    "    plist.append(os.path.join(full_dir+\"/PhosphorusLow\",ne))\n",
    "for ne in k  :\n",
    "    klist.append(os.path.join(full_dir+\"/PotassiumLow\",ne))\n",
    "for ne in nh :\n",
    "    nhlist.append(os.path.join(full_dir+\"/NitrogenHigh\",ne))\n",
    "for ne in ph :\n",
    "    phlist.append(os.path.join(full_dir+\"/PhosphorusHigh\",ne))\n",
    "for ne in kh :\n",
    "    khlist.append(os.path.join(full_dir+\"/PotassiumHigh\",ne))\n",
    "    \n",
    "\n"
   ]
  },
  {
   "cell_type": "code",
   "execution_count": 35,
   "id": "449c6dc5-40d0-474a-8e66-a3ae99df7c91",
   "metadata": {},
   "outputs": [
    {
     "name": "stdout",
     "output_type": "stream",
     "text": [
      "1\n"
     ]
    },
    {
     "data": {
      "text/plain": [
       "<matplotlib.image.AxesImage at 0x1ed92f904f0>"
      ]
     },
     "execution_count": 35,
     "metadata": {},
     "output_type": "execute_result"
    },
    {
     "data": {
      "image/png": "[encoded data removed]",
      "text/plain": [
       "<Figure size 432x288 with 1 Axes>"
      ]
     },
     "metadata": {
      "needs_background": "light"
     },
     "output_type": "display_data"
    }
   ],
   "source": [
    "scale_percent = 220\n",
    "\n",
    "def preocessImage(im):\n",
    "    #//img = cv2.imread(im1)\n",
    "    img = im1\n",
    "    dst = cv2.fastNlMeansDenoisingColored(img,None,10,10,7,21)\n",
    "    img = cv2.cvtColor(img,cv2.COLOR_BGR2RGB)\n",
    "    twoDimage = img.reshape((-1,3))\n",
    "    twoDimage = np.float32(twoDimage)\n",
    "    criteria = (cv2.TERM_CRITERIA_EPS + cv2.TERM_CRITERIA_MAX_ITER, 10, 1.0)\n",
    "    K = 4\n",
    "    attempts=10\n",
    "    ret,label,center=cv2.kmeans(twoDimage,K,None,criteria,attempts,cv2.KMEANS_PP_CENTERS)\n",
    "    center = np.uint8(center)\n",
    "    res = center[label.flatten()]\n",
    "    result_image = res.reshape((img.shape))\n",
    "    return cv2.fastNlMeansDenoisingColored(result_image,None,10,10,7,21)\n",
    "\n",
    "\n",
    "\n",
    "im1 = imageio.imread(nhlist[1])  \n",
    "imshow(im1)\n",
    "imshow(nhlist[1])\n",
    "print(1)\n",
    "x=preocessImage(im1);\n",
    "imshow(x)\n",
    "imshow(x)"
   ]
  },
  {
   "cell_type": "code",
   "execution_count": null,
   "id": "854dc1fa-582f-4635-91ca-830f9603ef7c",
   "metadata": {},
   "outputs": [],
   "source": []
  }
 ],
 "metadata": {
  "kernelspec": {
   "display_name": "Python 3 (ipykernel)",
   "language": "python",
   "name": "python3"
  },
  "language_info": {
   "codemirror_mode": {
    "name": "ipython",
    "version": 3
   },
   "file_extension": ".py",
   "mimetype": "text/x-python",
   "name": "python",
   "nbconvert_exporter": "python",
   "pygments_lexer": "ipython3",
   "version": "3.9.7"
  }
 },
 "nbformat": 4,
 "nbformat_minor": 5
}

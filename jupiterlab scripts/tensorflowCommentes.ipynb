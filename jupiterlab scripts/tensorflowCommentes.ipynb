{
 "cells": [
  {
   "cell_type": "code",
   "execution_count": 1,
   "id": "4d897dff-f170-41cc-87de-5f5305fa73d2",
   "metadata": {},
   "outputs": [],
   "source": [
    "import matplotlib.pyplot as plt\n",
    "import numpy as np\n",
    "import os,sys\n",
    "import PIL\n",
    "import tensorflow as tf\n",
    "import cv2 \n",
    "from tensorflow import keras\n",
    "from tensorflow.keras import layers\n",
    "from tensorflow.keras.models import Sequential\n",
    "from PIL import Image\n",
    "from skimage.io import imread, imshow\n",
    "from skimage.color import rgb2hsv\n",
    "from matplotlib import pyplot as plt\n",
    "from PIL import Image # importing image module \n",
    "import numpy as np \n",
    "import imageio\n",
    "import matplotlib.pyplot as plt\n",
    "from PIL import Image\n",
    "from PIL import Image\n",
    "\n",
    "\n"
   ]
  },
  {
   "cell_type": "code",
   "execution_count": 116,
   "id": "50bcba36-a8bb-4c41-a194-87b732bd7b11",
   "metadata": {},
   "outputs": [
    {
     "name": "stdout",
     "output_type": "stream",
     "text": [
      "Found 1120 files belonging to 6 classes.\n",
      "Using 1008 files for training.\n",
      "Found 1120 files belonging to 6 classes.\n",
      "Using 112 files for validation.\n",
      "['NitrogenHigh', 'NitrogenLow', 'PhosphorusHigh', 'PhosphorusLow', 'PotassiumHigh', 'PotassiumLow']\n"
     ]
    }
   ],
   "source": [
    "full_dir = \"E:/User Document/processed\"\n",
    "batch_size = 32\n",
    "img_height = 180\n",
    "img_width = 180\n",
    "\n",
    "train_ds = tf.keras.utils.image_dataset_from_directory(\n",
    "  full_dir,\n",
    "  validation_split=0.1,\n",
    "  subset=\"training\",\n",
    "  seed=123,\n",
    "  image_size=(img_height, img_width),\n",
    "  batch_size=batch_size)\n",
    "\n",
    "\n",
    "val_ds = tf.keras.utils.image_dataset_from_directory(\n",
    "  full_dir,\n",
    "  validation_split=0.1,\n",
    "  subset=\"validation\",\n",
    "  seed=123,\n",
    "  image_size=(img_height, img_width),\n",
    "  batch_size=batch_size)\n",
    "class_names = train_ds.class_names\n",
    "print(class_names)\n",
    "\n",
    "AUTOTUNE = tf.data.AUTOTUNE\n",
    "\n",
    "train_ds = train_ds.cache().shuffle(1000).prefetch(buffer_size=AUTOTUNE)\n",
    "val_ds = val_ds.cache().prefetch(buffer_size=AUTOTUNE)"
   ]
  },
  {
   "cell_type": "code",
   "execution_count": 117,
   "id": "795bcfe3-d606-4165-be28-462a6afbc6bc",
   "metadata": {},
   "outputs": [
    {
     "name": "stdout",
     "output_type": "stream",
     "text": [
      "<keras.engine.sequential.Sequential object at 0x00000228AEF57040>\n"
     ]
    }
   ],
   "source": [
    "\n",
    "\n",
    "num_classes = len(class_names)\n",
    "model = Sequential([\n",
    "  layers.Rescaling(1./255, input_shape=(img_height, img_width, 3)),\n",
    "  layers.Conv2D(16, 3, padding='same', activation='relu'),\n",
    "  layers.MaxPooling2D(),\n",
    "  layers.Conv2D(32, 3, padding='same', activation='relu'),\n",
    "  layers.MaxPooling2D(),\n",
    "  layers.Conv2D(64, 3, padding='same', activation='relu'),\n",
    "  layers.MaxPooling2D(),\n",
    "  layers.RandomFlip(\"horizontal_and_vertical\"),\n",
    "  layers.RandomRotation(0.2),\n",
    "  layers.Flatten(),\n",
    "  layers.Dense(128, activation='relu'),\n",
    "  layers.Dense(num_classes)\n",
    "])\n",
    "\n",
    "print(model)"
   ]
  },
  {
   "cell_type": "code",
   "execution_count": 118,
   "id": "e629c761-4425-4565-9dae-38f5b7062a6a",
   "metadata": {},
   "outputs": [
    {
     "name": "stdout",
     "output_type": "stream",
     "text": [
      "Model: \"sequential_12\"\n",
      "_________________________________________________________________\n",
      " Layer (type)                Output Shape              Param #   \n",
      "=================================================================\n",
      " rescaling_4 (Rescaling)     (None, 180, 180, 3)       0         \n",
      "                                                                 \n",
      " conv2d_36 (Conv2D)          (None, 180, 180, 16)      448       \n",
      "                                                                 \n",
      " max_pooling2d_36 (MaxPoolin  (None, 90, 90, 16)       0         \n",
      " g2D)                                                            \n",
      "                                                                 \n",
      " conv2d_37 (Conv2D)          (None, 90, 90, 32)        4640      \n",
      "                                                                 \n",
      " max_pooling2d_37 (MaxPoolin  (None, 45, 45, 32)       0         \n",
      " g2D)                                                            \n",
      "                                                                 \n",
      " conv2d_38 (Conv2D)          (None, 45, 45, 64)        18496     \n",
      "                                                                 \n",
      " max_pooling2d_38 (MaxPoolin  (None, 22, 22, 64)       0         \n",
      " g2D)                                                            \n",
      "                                                                 \n",
      " random_flip_2 (RandomFlip)  (None, 22, 22, 64)        0         \n",
      "                                                                 \n",
      " random_rotation_2 (RandomRo  (None, 22, 22, 64)       0         \n",
      " tation)                                                         \n",
      "                                                                 \n",
      " flatten_12 (Flatten)        (None, 30976)             0         \n",
      "                                                                 \n",
      " dense_24 (Dense)            (None, 128)               3965056   \n",
      "                                                                 \n",
      " dense_25 (Dense)            (None, 6)                 774       \n",
      "                                                                 \n",
      "=================================================================\n",
      "Total params: 3,989,414\n",
      "Trainable params: 3,989,414\n",
      "Non-trainable params: 0\n",
      "_________________________________________________________________\n"
     ]
    }
   ],
   "source": [
    "model.compile(optimizer='adam',\n",
    "              loss=tf.keras.losses.SparseCategoricalCrossentropy(from_logits=True),\n",
    "              metrics=['accuracy'])\n",
    "\n",
    "model.summary()"
   ]
  },
  {
   "cell_type": "code",
   "execution_count": 119,
   "id": "303acb00-8482-4e17-a645-67fe43ffff84",
   "metadata": {},
   "outputs": [
    {
     "name": "stdout",
     "output_type": "stream",
     "text": [
      "Epoch 1/10\n",
      "32/32 [==============================] - 22s 603ms/step - loss: 1.6476 - accuracy: 0.3581 - val_loss: 1.5746 - val_accuracy: 0.3661\n",
      "Epoch 2/10\n",
      "32/32 [==============================] - 20s 626ms/step - loss: 1.3091 - accuracy: 0.4841 - val_loss: 1.4794 - val_accuracy: 0.4286\n",
      "Epoch 3/10\n",
      "32/32 [==============================] - 21s 667ms/step - loss: 1.1937 - accuracy: 0.5407 - val_loss: 1.3759 - val_accuracy: 0.4107\n",
      "Epoch 4/10\n",
      "32/32 [==============================] - 20s 611ms/step - loss: 1.1418 - accuracy: 0.5417 - val_loss: 1.2582 - val_accuracy: 0.4911\n",
      "Epoch 5/10\n",
      "32/32 [==============================] - 20s 623ms/step - loss: 1.0905 - accuracy: 0.5565 - val_loss: 1.1010 - val_accuracy: 0.6250\n",
      "Epoch 6/10\n",
      "32/32 [==============================] - 20s 608ms/step - loss: 1.0330 - accuracy: 0.5942 - val_loss: 1.2128 - val_accuracy: 0.5089\n",
      "Epoch 7/10\n",
      "32/32 [==============================] - 18s 569ms/step - loss: 0.9677 - accuracy: 0.6200 - val_loss: 0.9619 - val_accuracy: 0.6250\n",
      "Epoch 8/10\n",
      "32/32 [==============================] - 19s 608ms/step - loss: 1.0008 - accuracy: 0.6071 - val_loss: 1.1035 - val_accuracy: 0.5536\n",
      "Epoch 9/10\n",
      "32/32 [==============================] - 20s 613ms/step - loss: 0.8939 - accuracy: 0.6478 - val_loss: 0.8794 - val_accuracy: 0.6518\n",
      "Epoch 10/10\n",
      "32/32 [==============================] - 20s 639ms/step - loss: 0.8644 - accuracy: 0.6716 - val_loss: 1.0543 - val_accuracy: 0.5893\n"
     ]
    }
   ],
   "source": [
    "epochs=10\n",
    "history = model.fit(\n",
    "  train_ds,\n",
    "  validation_data=val_ds,\n",
    "  epochs=epochs\n",
    ")"
   ]
  },
  {
   "cell_type": "code",
   "execution_count": 120,
   "id": "2839c9cf-06f2-4c39-8219-170f692a63b3",
   "metadata": {},
   "outputs": [],
   "source": [
    "from PIL import Image\n",
    "def load_image(img_path, show=False):\n",
    "\n",
    "    img = Image.open(img_path)\n",
    "    #img = img1.Rescaling(1./255, input_shape=(img_height, img_width, 3))\n",
    "    img_tensor = np.array(img)                    #       # (1, height, width, channels), add a dimension because the model expects this shape: (batch_size, height, width, channels)\n",
    "    img_tensor /= 1./255.                                      # imshow expects values in the range [0, 1]\n",
    "\n",
    "    if show:\n",
    "        plt.imshow(img_tensor[0])                           \n",
    "        plt.axis('off')\n",
    "        plt.show()\n",
    "\n",
    "    return img_tensor"
   ]
  },
  {
   "cell_type": "code",
   "execution_count": 144,
   "id": "92676357-93b0-4be8-b24c-2220b17d6d55",
   "metadata": {},
   "outputs": [
    {
     "data": {
      "text/plain": [
       "array([[-3.1902034,  0.6879859, -1.9124906,  0.8053539,  2.5274453,\n",
       "         1.9255642]], dtype=float32)"
      ]
     },
     "execution_count": 144,
     "metadata": {},
     "output_type": "execute_result"
    }
   ],
   "source": [
    "from PIL import Image\n",
    "image = Image.open('E:/User Document/processed/PotassiumHigh/PotassiumHigh44.jpg')\n",
    "image = image.resize((180, 180))\n",
    "image = np.array(image)\n",
    "img_tensor = np.expand_dims(image, axis=0)    \n",
    "model.predict(img_tensor)"
   ]
  },
  {
   "cell_type": "code",
   "execution_count": 150,
   "id": "b5ec5a69-bd91-4b5c-82bf-c6bdff854180",
   "metadata": {},
   "outputs": [],
   "source": [
    "model.save('E:/User Document/my_model.h5') "
   ]
  },
  {
   "cell_type": "code",
   "execution_count": null,
   "id": "76d78d20-9151-4f4b-8a3d-fd5d487c9c4c",
   "metadata": {},
   "outputs": [],
   "source": []
  },
  {
   "cell_type": "code",
   "execution_count": null,
   "id": "02be44a0-bac2-48f3-916e-d5dba05572d5",
   "metadata": {},
   "outputs": [],
   "source": []
  }
 ],
 "metadata": {
  "kernelspec": {
   "display_name": "Python 3 (ipykernel)",
   "language": "python",
   "name": "python3"
  },
  "language_info": {
   "codemirror_mode": {
    "name": "ipython",
    "version": 3
   },
   "file_extension": ".py",
   "mimetype": "text/x-python",
   "name": "python",
   "nbconvert_exporter": "python",
   "pygments_lexer": "ipython3",
   "version": "3.9.7"
  }
 },
 "nbformat": 4,
 "nbformat_minor": 5
}
